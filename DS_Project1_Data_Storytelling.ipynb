{
  "nbformat": 4,
  "nbformat_minor": 0,
  "metadata": {
    "colab": {
      "name": "DS-Project1-Data-Storytelling.ipynb",
      "version": "0.3.2",
      "provenance": [],
      "collapsed_sections": [
        "StheoBaLXrxl"
      ]
    },
    "kernelspec": {
      "name": "python3",
      "display_name": "Python 3"
    }
  },
  "cells": [
    {
      "metadata": {
        "id": "5i9SFBgX9R2r",
        "colab_type": "code",
        "colab": {}
      },
      "cell_type": "code",
      "source": [
        "import pandas as pd\n",
        "import numpy as np\n",
        "from scipy import stats\n",
        "import seaborn as sns\n",
        "import matplotlib.pyplot as plt\n",
        "%matplotlib inline"
      ],
      "execution_count": 0,
      "outputs": []
    },
    {
      "metadata": {
        "id": "sIsQVUKA9u6P",
        "colab_type": "code",
        "colab": {}
      },
      "cell_type": "code",
      "source": [
        "# Setting to show all columns\n",
        "pd.set_option('display.height', 1000)\n",
        "pd.set_option('display.max_rows', 2000)\n",
        "pd.set_option('display.max_columns', 1000)\n",
        "pd.set_option('display.width', 3000)\n",
        "pd.set_option('display.max_colwidth', 1000)"
      ],
      "execution_count": 0,
      "outputs": []
    },
    {
      "metadata": {
        "id": "i46GrIFoXsLv",
        "colab_type": "code",
        "colab": {}
      },
      "cell_type": "code",
      "source": [
        "! pip install sportmonks -q\n",
        "! pip install tzlocal -q"
      ],
      "execution_count": 0,
      "outputs": []
    },
    {
      "metadata": {
        "id": "UCfRedtwYteD",
        "colab_type": "code",
        "colab": {}
      },
      "cell_type": "code",
      "source": [
        "#Day's fixtures\n",
        "from sportmonks.soccer import SoccerApiV2\n",
        "soccer = SoccerApiV2(api_token=\n",
        "         'nEiZYXpxLywA4UWGBcsjCvFhejrrwtkRbrOnw5l0hOkqECMaj3eO7PJB9Pgc')\n",
        "\n",
        "fixtures = soccer.fixtures_today(includes=('localTeam', 'visitorTeam'))\n",
        "\n",
        "for f in fixtures:\n",
        "   print(f['localTeam']['name'], 'plays at home against',\n",
        "         f['visitorTeam']['name'])"
      ],
      "execution_count": 0,
      "outputs": []
    },
    {
      "metadata": {
        "id": "Red15sX9Y709",
        "colab_type": "code",
        "colab": {}
      },
      "cell_type": "code",
      "source": [
        "# All leagues in membership\n",
        "leagues = soccer.leagues(includes=('Spain'))\n",
        "\n",
        "for l in leagues:\n",
        "   print(l)"
      ],
      "execution_count": 0,
      "outputs": []
    },
    {
      "metadata": {
        "id": "w9TfUwITz1wc",
        "colab_type": "code",
        "colab": {}
      },
      "cell_type": "code",
      "source": [
        "# All available seasons in membership\n",
        "# By league_id\n",
        "all_seasons = soccer.seasons()\n",
        "all_seasons"
      ],
      "execution_count": 0,
      "outputs": []
    },
    {
      "metadata": {
        "id": "2NBmcjRWqD8P",
        "colab_type": "code",
        "colab": {}
      },
      "cell_type": "code",
      "source": [
        "# La Liga - Spain\n",
        "spain_id = 32\n",
        "laliga_id = 564\n",
        "laliga_s0 = 13133  # 2018/2019\n",
        "laliga_s1 = 8442   # 2017/2018\n",
        "laliga_s2 = 853    # 2016/2017\n",
        "laliga_s3 = 2063   # 2015/2016\n",
        "laliga_s4 = 2061   # 2014/2015\n",
        "\n",
        "# Premier League - England\n",
        "england_id = 462\n",
        "premier_id = 8\n",
        "premier_s0 = 12962 # 2018/2019\n",
        "premier_s1 = 6397  # 2017/2018\n",
        "premier_s2 = 13    # 2016/2017\n",
        "premier_s3 = 10    # 2015/2016\n",
        "premier_s4 = 12    # 2014/2015"
      ],
      "execution_count": 0,
      "outputs": []
    },
    {
      "metadata": {
        "id": "yaDpDy5Uqx5b",
        "colab_type": "code",
        "colab": {}
      },
      "cell_type": "code",
      "source": [
        "# season results\n",
        "season_r = soccer.season_results(season_id = 10)\n",
        "match_count = 0 # Number of matches\n",
        "comm_count = 0  # Count of matches with commentaries\n",
        "no_comm = {}    # Info of match w/NO commentaries\n",
        "for result in season_r:\n",
        "    if result['commentaries']== True:\n",
        "        comm_count += 1\n",
        "    else:\n",
        "        no_comm = {result['commentaries'], result['id'], result['season_id'],\n",
        "                    result['round_id'], result['localteam_id'],\n",
        "                    result['visitorteam_id'], result['venue_id']}\n",
        "    match_count += 1\n",
        "    print(result)\n",
        "    \n",
        "print(season_r)"
      ],
      "execution_count": 0,
      "outputs": []
    },
    {
      "metadata": {
        "id": "8cIbFBP2uu2d",
        "colab_type": "code",
        "colab": {}
      },
      "cell_type": "code",
      "source": [
        "print(len(season_r)) # Number of matches\n",
        "print(match_count)   # Number of matches\n",
        "print(comm_count)    # Number of matches with commentaries\n",
        "print(no_comm)       # No commentaries match info"
      ],
      "execution_count": 0,
      "outputs": []
    },
    {
      "metadata": {
        "id": "VoL394C7v9E0",
        "colab_type": "code",
        "colab": {}
      },
      "cell_type": "code",
      "source": [
        "# Commentaries for match\n",
        "comments_1 = soccer.commentaries(fixture_id = 4193997)\n",
        "comments_1"
      ],
      "execution_count": 0,
      "outputs": []
    },
    {
      "metadata": {
        "id": "MNmHJA1rHo_r",
        "colab_type": "text"
      },
      "cell_type": "markdown",
      "source": [
        "### La Liga 2017/2018 Season"
      ]
    },
    {
      "metadata": {
        "id": "StheoBaLXrxl",
        "colab_type": "text"
      },
      "cell_type": "markdown",
      "source": [
        "#### Results for all matches"
      ]
    },
    {
      "metadata": {
        "id": "9dZO2oOBzbeX",
        "colab_type": "code",
        "colab": {}
      },
      "cell_type": "code",
      "source": [
        "# Match Results List - La Liga 2017/2018 season\n",
        "table_ll_s1 = soccer.season_results(season_id = 8442) # Results La Liga 17/18\n",
        "lst_ll_s1 = []\n",
        "for result in table_ll_s1:\n",
        "    lst_result = [result['id'], result['round_id'], result['localteam_id'],\n",
        "                  result['visitorteam_id'], result['scores']['localteam_score'],\n",
        "                  result['scores']['visitorteam_score'], \n",
        "                  result['scores']['ft_score'], result['commentaries']]\n",
        "    lst_ll_s1.append(lst_result)"
      ],
      "execution_count": 0,
      "outputs": []
    },
    {
      "metadata": {
        "id": "P7WTvGlzZKci",
        "colab_type": "code",
        "outputId": "81b8e866-bde3-4a83-9ba2-a57a4e8d7998",
        "colab": {
          "base_uri": "https://localhost:8080/",
          "height": 204
        }
      },
      "cell_type": "code",
      "source": [
        "# Season 1 (2017/18) DataFrame - La Liga\n",
        "df_laliga_s1 = pd.DataFrame(lst_ll_s1, columns=['fixture_id', 'round_id',\n",
        "                                       'localteam_id', 'visitorteam_id',\n",
        "                                       'localteam_score',  'visitorteam_score',\n",
        "                                       'fulltime_score', 'commentaries'])\n",
        "df_laliga_s1.head()"
      ],
      "execution_count": 5,
      "outputs": [
        {
          "output_type": "execute_result",
          "data": {
            "text/html": [
              "<div>\n",
              "<style scoped>\n",
              "    .dataframe tbody tr th:only-of-type {\n",
              "        vertical-align: middle;\n",
              "    }\n",
              "\n",
              "    .dataframe tbody tr th {\n",
              "        vertical-align: top;\n",
              "    }\n",
              "\n",
              "    .dataframe thead th {\n",
              "        text-align: right;\n",
              "    }\n",
              "</style>\n",
              "<table border=\"1\" class=\"dataframe\">\n",
              "  <thead>\n",
              "    <tr style=\"text-align: right;\">\n",
              "      <th></th>\n",
              "      <th>fixture_id</th>\n",
              "      <th>round_id</th>\n",
              "      <th>localteam_id</th>\n",
              "      <th>visitorteam_id</th>\n",
              "      <th>localteam_score</th>\n",
              "      <th>visitorteam_score</th>\n",
              "      <th>fulltime_score</th>\n",
              "      <th>commentaries</th>\n",
              "    </tr>\n",
              "  </thead>\n",
              "  <tbody>\n",
              "    <tr>\n",
              "      <th>0</th>\n",
              "      <td>4193968</td>\n",
              "      <td>131630</td>\n",
              "      <td>3457</td>\n",
              "      <td>3477</td>\n",
              "      <td>1</td>\n",
              "      <td>0</td>\n",
              "      <td>1-0</td>\n",
              "      <td>True</td>\n",
              "    </tr>\n",
              "    <tr>\n",
              "      <th>1</th>\n",
              "      <td>4193969</td>\n",
              "      <td>131630</td>\n",
              "      <td>36</td>\n",
              "      <td>594</td>\n",
              "      <td>2</td>\n",
              "      <td>3</td>\n",
              "      <td>2-3</td>\n",
              "      <td>True</td>\n",
              "    </tr>\n",
              "    <tr>\n",
              "      <th>2</th>\n",
              "      <td>4193970</td>\n",
              "      <td>131630</td>\n",
              "      <td>13258</td>\n",
              "      <td>106</td>\n",
              "      <td>0</td>\n",
              "      <td>0</td>\n",
              "      <td>0-0</td>\n",
              "      <td>True</td>\n",
              "    </tr>\n",
              "    <tr>\n",
              "      <th>3</th>\n",
              "      <td>4193971</td>\n",
              "      <td>131630</td>\n",
              "      <td>231</td>\n",
              "      <td>7980</td>\n",
              "      <td>2</td>\n",
              "      <td>2</td>\n",
              "      <td>2-2</td>\n",
              "      <td>True</td>\n",
              "    </tr>\n",
              "    <tr>\n",
              "      <th>4</th>\n",
              "      <td>4193972</td>\n",
              "      <td>131630</td>\n",
              "      <td>676</td>\n",
              "      <td>528</td>\n",
              "      <td>1</td>\n",
              "      <td>1</td>\n",
              "      <td>1-1</td>\n",
              "      <td>True</td>\n",
              "    </tr>\n",
              "  </tbody>\n",
              "</table>\n",
              "</div>"
            ],
            "text/plain": [
              "   fixture_id  round_id  localteam_id  visitorteam_id  localteam_score  visitorteam_score fulltime_score  commentaries\n",
              "0     4193968    131630          3457            3477                1                  0            1-0          True\n",
              "1     4193969    131630            36             594                2                  3            2-3          True\n",
              "2     4193970    131630         13258             106                0                  0            0-0          True\n",
              "3     4193971    131630           231            7980                2                  2            2-2          True\n",
              "4     4193972    131630           676             528                1                  1            1-1          True"
            ]
          },
          "metadata": {
            "tags": []
          },
          "execution_count": 5
        }
      ]
    },
    {
      "metadata": {
        "id": "-un2kX10VUFY",
        "colab_type": "code",
        "outputId": "04ac716f-0d20-4dad-cadc-6c33155b816a",
        "colab": {
          "base_uri": "https://localhost:8080/",
          "height": 34
        }
      },
      "cell_type": "code",
      "source": [
        "df_laliga_s1.shape"
      ],
      "execution_count": 0,
      "outputs": [
        {
          "output_type": "execute_result",
          "data": {
            "text/plain": [
              "(380, 8)"
            ]
          },
          "metadata": {
            "tags": []
          },
          "execution_count": 6
        }
      ]
    },
    {
      "metadata": {
        "id": "QrV8Caw2Mqhr",
        "colab_type": "text"
      },
      "cell_type": "markdown",
      "source": [
        "#### All Goals - 2017/18 La Liga"
      ]
    },
    {
      "metadata": {
        "id": "ZgViOmApfm7d",
        "colab_type": "text"
      },
      "cell_type": "markdown",
      "source": [
        "#### Unedited Goals Table - La Liga 2017/18"
      ]
    },
    {
      "metadata": {
        "id": "3uR9kliNI6qI",
        "colab_type": "code",
        "colab": {}
      },
      "cell_type": "code",
      "source": [
        "# Complete Table for All Goals for Season 1 (2017/18) - La Liga\n",
        "goals_lst = [] # 'comment' string - split after '. '\n",
        "\n",
        "# all fixtures from 2017/18 season table\n",
        "fixtures_lst1 = df_laliga_s1.fixture_id\n",
        "\n",
        "# Commentaries for each fixture\n",
        "for fixture in fixtures_lst:\n",
        "    commentaries = soccer.commentaries(fixture) \n",
        "    # Parsing data from commentaries for each fixture\n",
        "    for dictionary in commentaries:\n",
        "        if dictionary[\"goal\"] == True: \n",
        "            goals_lst.append(dictionary)"
      ],
      "execution_count": 0,
      "outputs": []
    },
    {
      "metadata": {
        "id": "XtdwpZVKDzmq",
        "colab_type": "code",
        "colab": {}
      },
      "cell_type": "code",
      "source": [
        "df_fullgoals_lls1 = pd.DataFrame(goals_lst)"
      ],
      "execution_count": 0,
      "outputs": []
    },
    {
      "metadata": {
        "id": "MiTpwZe6hUH6",
        "colab_type": "code",
        "colab": {}
      },
      "cell_type": "code",
      "source": [
        "df_fullgoals_lls1[df_fullgoals_lls1['comment'].str.contains('Own Goal',\n",
        "                                             regex=False, case=False, na=False)]"
      ],
      "execution_count": 0,
      "outputs": []
    },
    {
      "metadata": {
        "id": "eKyZGhfKx-wO",
        "colab_type": "code",
        "colab": {}
      },
      "cell_type": "code",
      "source": [
        "df_fullgoals_lls1"
      ],
      "execution_count": 0,
      "outputs": []
    },
    {
      "metadata": {
        "id": "NspCFVbIhUCO",
        "colab_type": "code",
        "outputId": "529d905a-477e-4b22-89ce-ddd975e4d32f",
        "colab": {
          "base_uri": "https://localhost:8080/",
          "height": 34
        }
      },
      "cell_type": "code",
      "source": [
        "len(df_fullgoals_lls1[df_fullgoals_lls1['comment'].str.contains('Goal! ',\n",
        "                                            regex=False, case=False, na=False)])"
      ],
      "execution_count": 0,
      "outputs": [
        {
          "output_type": "execute_result",
          "data": {
            "text/plain": [
              "998"
            ]
          },
          "metadata": {
            "tags": []
          },
          "execution_count": 70
        }
      ]
    },
    {
      "metadata": {
        "id": "A8FKKksrhUGD",
        "colab_type": "code",
        "colab": {}
      },
      "cell_type": "code",
      "source": [
        "df_fullgoals_lls1 = df_goals_lls1[df_goals_lls1.comment.str.contains(\"Own Goal\") == False]"
      ],
      "execution_count": 0,
      "outputs": []
    },
    {
      "metadata": {
        "id": "NlL2EOAJncQg",
        "colab_type": "code",
        "outputId": "4da095a6-0ffd-4a0d-ccc9-360dc26bc566",
        "colab": {
          "base_uri": "https://localhost:8080/",
          "height": 34
        }
      },
      "cell_type": "code",
      "source": [
        "df_fullgoals_lls1.shape"
      ],
      "execution_count": 0,
      "outputs": [
        {
          "output_type": "execute_result",
          "data": {
            "text/plain": [
              "(1027, 7)"
            ]
          },
          "metadata": {
            "tags": []
          },
          "execution_count": 28
        }
      ]
    },
    {
      "metadata": {
        "id": "haRDdO76X7lu",
        "colab_type": "text"
      },
      "cell_type": "markdown",
      "source": [
        "#### Goals Table - La Liga 2017/18"
      ]
    },
    {
      "metadata": {
        "id": "mTow3CEkNAnr",
        "colab_type": "code",
        "colab": {}
      },
      "cell_type": "code",
      "source": [
        "# All Goals for Season 1 (2017/18) - La Liga\n",
        "import re\n",
        "\n",
        "goal_player = []      # Scoring players\n",
        "goal_team = []        # Scoring team\n",
        "goal_score = []       # Updated score after goal\n",
        "goal_against = []     # Teams scored against\n",
        "goal_minute = []      # Minute of score\n",
        "goal_fixture = []     # Fixture id of match's score\n",
        "own_goal = []         # 1 = True, 0 = False\n",
        "extra_minute = []     # Extra time after 90th minute\n",
        "\n",
        "# all fixtures from 2017/18 season table\n",
        "fixtures_lst = df_laliga_s1.fixture_id\n",
        "\n",
        "# Commentaries for each fixture\n",
        "for fixture in fixtures_lst:\n",
        "    commentaries = soccer.commentaries(fixture) \n",
        "    \n",
        "    # Parsing data from commentaries for each fixture\n",
        "    for dictionary in commentaries:\n",
        "        \n",
        "        if dictionary[\"goal\"] == True:        \n",
        "            # setting 'comment' value to 'comment' variable\n",
        "            comments = dictionary['comment']\n",
        "            \n",
        "            # All goals except 'Own Goal'\n",
        "            if \"Goal!\" in comments:\n",
        "                # 'score' finds digits in 'comment' string and makes digit list\n",
        "                score = list(map(int, re.findall(r'\\d+', comments)))\n",
        "                goal_score.append(score)\n",
        "                goal_minute.append(dictionary['minute']) # Adding scoring minute\n",
        "                goal_fixture.append(fixture) # Adding fixture_id\n",
        "                own_goal.append(0) # Not own goal = 0\n",
        "                extra_minute.append(dictionary['extra_minute']) # after 90th min\n",
        "                \n",
        "                # adding scoring player to 'goal_player' \n",
        "                half_string = comments.split('.')[1]\n",
        "                if '-' in half_string:\n",
        "                    player_string = (half_string.split('-')[0]).strip(' ')\n",
        "                    goal_player.append(player_string)\n",
        "                elif '(' in half_string:\n",
        "                    player_string = half_string.split('(')[0]\n",
        "                    player_string = player_string.strip(' ')\n",
        "                    goal_player.append(player_string)\n",
        "\n",
        "                # adding scoring team to 'goal_team'\n",
        "                if '-' in half_string:\n",
        "                    team_string = half_string.split('-')[1]\n",
        "                    team_string = (team_string.split('-')[0]).strip(' ')\n",
        "                    goal_team.append(team_string)\n",
        "                elif '(' in half_string:\n",
        "                    team_string = half_string.split('(')[1]\n",
        "                    team_string = (team_string.split(')')[0]).strip(' ')\n",
        "                    goal_team.append(team_string)\n",
        "                \n",
        "                # adding team with goal against\n",
        "                # will be useful when calculating 'clutch' score\n",
        "                first_half_string = (comments.split('.')[0]).strip('Goal!')\n",
        "                teams = re.sub(\"\\d+\", \" \", first_half_string)\n",
        "                team_1 = (teams.split(\",\")[0]).strip(' ')\n",
        "                team_2 = (teams.split(\",\")[1]).strip(' ')\n",
        "                if team_1 == team_string:\n",
        "                    team_against = team_2\n",
        "                else:\n",
        "                    team_against = team_1\n",
        "                goal_against.append(team_against)\n",
        "        \n",
        "        \n",
        "            # 'Own Goal' ONLY            \n",
        "            elif \"Own Goal\" in comments:\n",
        "                # 'score' finds digits in 'comment' string and makes digit list\n",
        "                score = list(map(int, re.findall(r'\\d+', comments)))\n",
        "                goal_score.append(score)\n",
        "                goal_minute.append(dictionary['minute']) # Adding scoring minute\n",
        "                goal_fixture.append(fixture) # Adding fixture_id\n",
        "                own_goal.append(1) # Is an own goal = 1\n",
        "                extra_minute.append(dictionary['extra_minute']) # after 90th min\n",
        "                \n",
        "                # adding scoring player to 'goal_player' \n",
        "                first_string = comments.split(',')[0]\n",
        "                player_string = first_string.split('by ')[1]\n",
        "                goal_player.append(player_string)\n",
        "\n",
        "                # adding scoring team to 'goal_team'\n",
        "                second_string = comments.split(', ')[1]\n",
        "                team_string = second_string.split('.')[0]\n",
        "                goal_team.append(team_string)\n",
        "\n",
        "                # adding team with goal against\n",
        "                # will be useful when calculating 'clutch' score\n",
        "                half_string = comments.split('. ')[1] # <-- HERE!!\n",
        "                teams = re.sub(\"\\d+\", \" \", half_string)\n",
        "                team_1 = (teams.split(\",\")[0]).strip(' ')\n",
        "                team_2 = ((teams.split(\",\")[1]).split('.')[0]).strip(' ')\n",
        "                if team_1 == team_string:\n",
        "                    team_against = team_2\n",
        "                else:\n",
        "                    team_against = team_1\n",
        "                goal_against.append(team_against)\n"
      ],
      "execution_count": 0,
      "outputs": []
    },
    {
      "metadata": {
        "id": "TbZYChGmV1Lk",
        "colab_type": "code",
        "colab": {}
      },
      "cell_type": "code",
      "source": [
        "goals_lls1 = [goal_player, own_goal, goal_minute, extra_minute, goal_fixture,\n",
        "              goal_team, goal_against, goal_score]"
      ],
      "execution_count": 0,
      "outputs": []
    },
    {
      "metadata": {
        "id": "lbgHRUh9NasM",
        "colab_type": "code",
        "colab": {}
      },
      "cell_type": "code",
      "source": [
        "df_goals_lls1 = pd.DataFrame(goals_lls1,\n",
        "                             index=['player', 'own_goal', 'minute',\n",
        "                                    'extra_minute', 'fixture_id', 'team', \n",
        "                                    'opponent', 'updated_score']).T"
      ],
      "execution_count": 0,
      "outputs": []
    },
    {
      "metadata": {
        "id": "ff2M5Kc7OUHv",
        "colab_type": "code",
        "colab": {}
      },
      "cell_type": "code",
      "source": [
        "df_goals_lls1.head(6)"
      ],
      "execution_count": 0,
      "outputs": []
    },
    {
      "metadata": {
        "id": "keg1jsilONyA",
        "colab_type": "code",
        "colab": {}
      },
      "cell_type": "code",
      "source": [
        "# Splitting 'updated_score' into 2 columns\n",
        "df_goals_lls1['score_a'] = df_goals_lls1.updated_score.apply(lambda x: x[0])\n",
        "df_goals_lls1['score_b'] = df_goals_lls1.updated_score.apply(lambda x: x[1])"
      ],
      "execution_count": 0,
      "outputs": []
    },
    {
      "metadata": {
        "id": "RLykHq5UIsFD",
        "colab_type": "code",
        "colab": {}
      },
      "cell_type": "code",
      "source": [
        "df_goals_lls1['tied'] = (df_goals_lls1.score_a) == (df_goals_lls1.score_b)"
      ],
      "execution_count": 0,
      "outputs": []
    },
    {
      "metadata": {
        "id": "YdeyO0W0XbT1",
        "colab_type": "code",
        "colab": {}
      },
      "cell_type": "code",
      "source": [
        "# 'up_1' column set by rows with different 'fixture_id' from row below\n",
        "# OR rows with same 'fixture_id' in row below with 'tied' == True\n",
        "df_goals_lls1['up_1'] = ((df_goals_lls1.fixture_id.shift(-1)) != (df_goals_lls1.fixture_id)) | (df_goals_lls1.groupby('fixture_id')['tied'].shift(-1))\n",
        "\n",
        "# 'up_2' column set by rows with same 'fixture_id' in row below 'tied' == False\n",
        "# AND for same 'fixture_id' in row below 'up_1' == True\n",
        "# AND current row's 'tied' == False\n",
        "df_goals_lls1['up_2'] = ((df_goals_lls1.groupby('fixture_id')['tied'].shift(-1) == False) & (df_goals_lls1.groupby('fixture_id')['up_1'].shift(-1)) & (df_goals_lls1['tied'] == False))"
      ],
      "execution_count": 0,
      "outputs": []
    },
    {
      "metadata": {
        "id": "OlbQdGdaxjDc",
        "colab_type": "code",
        "colab": {}
      },
      "cell_type": "code",
      "source": [
        "df_goals_lls1['down_1'] = (((df_goals_lls1.score_a - df_goals_lls1.score_b).abs() == 1) & (df_goals_lls1.groupby('fixture_id')['up_2'].shift(-1)))"
      ],
      "execution_count": 0,
      "outputs": []
    },
    {
      "metadata": {
        "id": "0VqNCqmc2P9-",
        "colab_type": "code",
        "colab": {}
      },
      "cell_type": "code",
      "source": [
        "# Function 'event_grade()' - grading scoring events\n",
        "def event_grade(row):\n",
        "    # tie broken = 5\n",
        "    if row['up_1'] == True:\n",
        "        return 5\n",
        "    # tied game = 3\n",
        "    elif row['tied']:\n",
        "        return 3\n",
        "    # raising score by 2 = 1.5\n",
        "    elif row['up_2'] == True:\n",
        "        return 1.5\n",
        "    # 1 away from tie = 1\n",
        "    elif row['down_1'] == True:\n",
        "        return 1\n",
        "    else:\n",
        "        return 0.5"
      ],
      "execution_count": 0,
      "outputs": []
    },
    {
      "metadata": {
        "id": "ui_qNAda6Aql",
        "colab_type": "code",
        "colab": {}
      },
      "cell_type": "code",
      "source": [
        "def minute_weight(row):\n",
        "    # Max weight = 0.2 (for minute 0 to 45)\n",
        "    if row['minute'] <= 45:\n",
        "        return (row['minute']*0.2) / 45\n",
        "    # Max weight = 0.4 (for minute 46 to 70)\n",
        "    elif 46 <= row['minute'] <= 65:\n",
        "        return (row['minute']*0.4) / 65\n",
        "    elif 66 <= row['minute'] <= 74:\n",
        "        return (row['minute']*0.5) / 74\n",
        "    # Max weight = 0.6 (for minute 71 to 80)\n",
        "    elif 75 <= row['minute'] <= 80:\n",
        "        return (row['minute']*0.7) / 80\n",
        "    # Max weight = 0.9 (for minute 81 to 90)\n",
        "    elif (81 <= row['minute'] <= 90) and row['extra_minute'] == None:\n",
        "        return (row['minute']*0.9) / 90\n",
        "    # Max weight = 1 (for extra minute 1 to 10)\n",
        "    elif 1 <= row['extra_minute'] <= 10:\n",
        "        return ((row['extra_minute']+90)*1) / 100"
      ],
      "execution_count": 0,
      "outputs": []
    },
    {
      "metadata": {
        "id": "ocSPVMom4Rw1",
        "colab_type": "code",
        "colab": {}
      },
      "cell_type": "code",
      "source": [
        "# Applying grades to scoring events\n",
        "df_goals_lls1['score_grade'] = df_goals_lls1.apply(event_grade, axis=1)\n",
        "\n",
        "# Increasing 'score_grade' for ties after previous tie was lost\n",
        "df_goals_lls1.loc[df_goals_lls1['tied'] & (df_goals_lls1.groupby('fixture_id')['tied'].shift(-2)), 'score_grade'] = 4.5\n",
        "\n",
        "# Applying weights according to minute of score\n",
        "df_goals_lls1['time_weight'] = df_goals_lls1.apply(minute_weight, axis=1)\n",
        "\n",
        "# Calculating player's clutch score\n",
        "df_goals_lls1['player_clutch_score'] = df_goals_lls1['score_grade'] * df_goals_lls1['time_weight']"
      ],
      "execution_count": 0,
      "outputs": []
    },
    {
      "metadata": {
        "id": "n5kbmsTwOd9x",
        "colab_type": "code",
        "outputId": "a6687718-7ae0-45fc-836f-cf0748399dfe",
        "colab": {
          "base_uri": "https://localhost:8080/",
          "height": 309
        }
      },
      "cell_type": "code",
      "source": [
        "df_goals_lls1.head()"
      ],
      "execution_count": 115,
      "outputs": [
        {
          "output_type": "execute_result",
          "data": {
            "text/html": [
              "<div>\n",
              "<style scoped>\n",
              "    .dataframe tbody tr th:only-of-type {\n",
              "        vertical-align: middle;\n",
              "    }\n",
              "\n",
              "    .dataframe tbody tr th {\n",
              "        vertical-align: top;\n",
              "    }\n",
              "\n",
              "    .dataframe thead th {\n",
              "        text-align: right;\n",
              "    }\n",
              "</style>\n",
              "<table border=\"1\" class=\"dataframe\">\n",
              "  <thead>\n",
              "    <tr style=\"text-align: right;\">\n",
              "      <th></th>\n",
              "      <th>player</th>\n",
              "      <th>own_goal</th>\n",
              "      <th>minute</th>\n",
              "      <th>extra_minute</th>\n",
              "      <th>fixture_id</th>\n",
              "      <th>team</th>\n",
              "      <th>opponent</th>\n",
              "      <th>updated_score</th>\n",
              "      <th>score_a</th>\n",
              "      <th>score_b</th>\n",
              "      <th>tied</th>\n",
              "      <th>up_1</th>\n",
              "      <th>up_2</th>\n",
              "      <th>down_1</th>\n",
              "      <th>score_grade</th>\n",
              "      <th>time_weight</th>\n",
              "      <th>player_clutch_score</th>\n",
              "    </tr>\n",
              "  </thead>\n",
              "  <tbody>\n",
              "    <tr>\n",
              "      <th>0</th>\n",
              "      <td>José Luis Morales</td>\n",
              "      <td>0</td>\n",
              "      <td>88</td>\n",
              "      <td>None</td>\n",
              "      <td>4193968</td>\n",
              "      <td>Levante</td>\n",
              "      <td>Villarreal</td>\n",
              "      <td>[1, 0]</td>\n",
              "      <td>1</td>\n",
              "      <td>0</td>\n",
              "      <td>False</td>\n",
              "      <td>True</td>\n",
              "      <td>False</td>\n",
              "      <td>False</td>\n",
              "      <td>5.0</td>\n",
              "      <td>0.880000</td>\n",
              "      <td>4.400000</td>\n",
              "    </tr>\n",
              "    <tr>\n",
              "      <th>1</th>\n",
              "      <td>Willian José</td>\n",
              "      <td>0</td>\n",
              "      <td>88</td>\n",
              "      <td>None</td>\n",
              "      <td>4193969</td>\n",
              "      <td>Real Sociedad</td>\n",
              "      <td>Celta de Vigo</td>\n",
              "      <td>[2, 3]</td>\n",
              "      <td>2</td>\n",
              "      <td>3</td>\n",
              "      <td>False</td>\n",
              "      <td>True</td>\n",
              "      <td>False</td>\n",
              "      <td>False</td>\n",
              "      <td>5.0</td>\n",
              "      <td>0.880000</td>\n",
              "      <td>4.400000</td>\n",
              "    </tr>\n",
              "    <tr>\n",
              "      <th>2</th>\n",
              "      <td>Juanmi</td>\n",
              "      <td>0</td>\n",
              "      <td>80</td>\n",
              "      <td>None</td>\n",
              "      <td>4193969</td>\n",
              "      <td>Real Sociedad</td>\n",
              "      <td>Celta de Vigo</td>\n",
              "      <td>[2, 2]</td>\n",
              "      <td>2</td>\n",
              "      <td>2</td>\n",
              "      <td>True</td>\n",
              "      <td>False</td>\n",
              "      <td>False</td>\n",
              "      <td>False</td>\n",
              "      <td>4.5</td>\n",
              "      <td>0.700000</td>\n",
              "      <td>3.150000</td>\n",
              "    </tr>\n",
              "    <tr>\n",
              "      <th>3</th>\n",
              "      <td>Maxi Gómez</td>\n",
              "      <td>0</td>\n",
              "      <td>50</td>\n",
              "      <td>None</td>\n",
              "      <td>4193969</td>\n",
              "      <td>Celta de Vigo</td>\n",
              "      <td>Real Sociedad</td>\n",
              "      <td>[2, 1]</td>\n",
              "      <td>2</td>\n",
              "      <td>1</td>\n",
              "      <td>False</td>\n",
              "      <td>True</td>\n",
              "      <td>False</td>\n",
              "      <td>False</td>\n",
              "      <td>5.0</td>\n",
              "      <td>0.307692</td>\n",
              "      <td>1.538462</td>\n",
              "    </tr>\n",
              "    <tr>\n",
              "      <th>4</th>\n",
              "      <td>Mikel Oyarzabal</td>\n",
              "      <td>0</td>\n",
              "      <td>33</td>\n",
              "      <td>None</td>\n",
              "      <td>4193969</td>\n",
              "      <td>Real Sociedad</td>\n",
              "      <td>Celta de Vigo</td>\n",
              "      <td>[1, 1]</td>\n",
              "      <td>1</td>\n",
              "      <td>1</td>\n",
              "      <td>True</td>\n",
              "      <td>False</td>\n",
              "      <td>False</td>\n",
              "      <td>False</td>\n",
              "      <td>3.0</td>\n",
              "      <td>0.146667</td>\n",
              "      <td>0.440000</td>\n",
              "    </tr>\n",
              "  </tbody>\n",
              "</table>\n",
              "</div>"
            ],
            "text/plain": [
              "              player own_goal minute extra_minute fixture_id           team       opponent updated_score  score_a  score_b   tied   up_1   up_2  down_1  score_grade  time_weight  player_clutch_score\n",
              "0  José Luis Morales        0     88         None    4193968        Levante     Villarreal        [1, 0]        1        0  False   True  False   False          5.0     0.880000             4.400000\n",
              "1       Willian José        0     88         None    4193969  Real Sociedad  Celta de Vigo        [2, 3]        2        3  False   True  False   False          5.0     0.880000             4.400000\n",
              "2             Juanmi        0     80         None    4193969  Real Sociedad  Celta de Vigo        [2, 2]        2        2   True  False  False   False          4.5     0.700000             3.150000\n",
              "3         Maxi Gómez        0     50         None    4193969  Celta de Vigo  Real Sociedad        [2, 1]        2        1  False   True  False   False          5.0     0.307692             1.538462\n",
              "4    Mikel Oyarzabal        0     33         None    4193969  Real Sociedad  Celta de Vigo        [1, 1]        1        1   True  False  False   False          3.0     0.146667             0.440000"
            ]
          },
          "metadata": {
            "tags": []
          },
          "execution_count": 115
        }
      ]
    },
    {
      "metadata": {
        "id": "v4dbP8ajhbsh",
        "colab_type": "code",
        "colab": {}
      },
      "cell_type": "code",
      "source": [
        "# cluch_score means by player\n",
        "#df_goals_lls1.groupby('player')['player_clutch_score'].agg(np.mean)"
      ],
      "execution_count": 0,
      "outputs": []
    },
    {
      "metadata": {
        "id": "E6eb1IwDqkb2",
        "colab_type": "text"
      },
      "cell_type": "markdown",
      "source": [
        "#### Players with more than 4 goals after 80th minute"
      ]
    },
    {
      "metadata": {
        "id": "m3drR0xvnz2Z",
        "colab_type": "code",
        "colab": {
          "base_uri": "https://localhost:8080/",
          "height": 1509
        },
        "outputId": "5e12a3b9-7b78-4327-defd-9e9375e9a6b0"
      },
      "cell_type": "code",
      "source": [
        "df_80min_lls1 = df_goals_lls1[df_goals_lls1.minute > 80].groupby('player').filter(lambda x: len(x) >= 4).sort_values(['player'])\n",
        "df_80min_lls1"
      ],
      "execution_count": 117,
      "outputs": [
        {
          "output_type": "execute_result",
          "data": {
            "text/html": [
              "<div>\n",
              "<style scoped>\n",
              "    .dataframe tbody tr th:only-of-type {\n",
              "        vertical-align: middle;\n",
              "    }\n",
              "\n",
              "    .dataframe tbody tr th {\n",
              "        vertical-align: top;\n",
              "    }\n",
              "\n",
              "    .dataframe thead th {\n",
              "        text-align: right;\n",
              "    }\n",
              "</style>\n",
              "<table border=\"1\" class=\"dataframe\">\n",
              "  <thead>\n",
              "    <tr style=\"text-align: right;\">\n",
              "      <th></th>\n",
              "      <th>player</th>\n",
              "      <th>own_goal</th>\n",
              "      <th>minute</th>\n",
              "      <th>extra_minute</th>\n",
              "      <th>fixture_id</th>\n",
              "      <th>team</th>\n",
              "      <th>opponent</th>\n",
              "      <th>updated_score</th>\n",
              "      <th>score_a</th>\n",
              "      <th>score_b</th>\n",
              "      <th>tied</th>\n",
              "      <th>up_1</th>\n",
              "      <th>up_2</th>\n",
              "      <th>down_1</th>\n",
              "      <th>score_grade</th>\n",
              "      <th>time_weight</th>\n",
              "      <th>player_clutch_score</th>\n",
              "    </tr>\n",
              "  </thead>\n",
              "  <tbody>\n",
              "    <tr>\n",
              "      <th>874</th>\n",
              "      <td>Cristiano Ronaldo</td>\n",
              "      <td>0</td>\n",
              "      <td>87</td>\n",
              "      <td>None</td>\n",
              "      <td>4194296</td>\n",
              "      <td>Real Madrid</td>\n",
              "      <td>Athletic Club</td>\n",
              "      <td>[1, 1]</td>\n",
              "      <td>1</td>\n",
              "      <td>1</td>\n",
              "      <td>True</td>\n",
              "      <td>False</td>\n",
              "      <td>False</td>\n",
              "      <td>False</td>\n",
              "      <td>3.0</td>\n",
              "      <td>0.87</td>\n",
              "      <td>2.610</td>\n",
              "    </tr>\n",
              "    <tr>\n",
              "      <th>730</th>\n",
              "      <td>Cristiano Ronaldo</td>\n",
              "      <td>0</td>\n",
              "      <td>84</td>\n",
              "      <td>None</td>\n",
              "      <td>4194238</td>\n",
              "      <td>Real Madrid</td>\n",
              "      <td>Eibar</td>\n",
              "      <td>[1, 2]</td>\n",
              "      <td>1</td>\n",
              "      <td>2</td>\n",
              "      <td>False</td>\n",
              "      <td>True</td>\n",
              "      <td>False</td>\n",
              "      <td>False</td>\n",
              "      <td>5.0</td>\n",
              "      <td>0.84</td>\n",
              "      <td>4.200</td>\n",
              "    </tr>\n",
              "    <tr>\n",
              "      <th>196</th>\n",
              "      <td>Cristiano Ronaldo</td>\n",
              "      <td>0</td>\n",
              "      <td>85</td>\n",
              "      <td>None</td>\n",
              "      <td>4194039</td>\n",
              "      <td>Real Madrid</td>\n",
              "      <td>Getafe</td>\n",
              "      <td>[1, 2]</td>\n",
              "      <td>1</td>\n",
              "      <td>2</td>\n",
              "      <td>False</td>\n",
              "      <td>True</td>\n",
              "      <td>False</td>\n",
              "      <td>False</td>\n",
              "      <td>5.0</td>\n",
              "      <td>0.85</td>\n",
              "      <td>4.250</td>\n",
              "    </tr>\n",
              "    <tr>\n",
              "      <th>512</th>\n",
              "      <td>Cristiano Ronaldo</td>\n",
              "      <td>0</td>\n",
              "      <td>84</td>\n",
              "      <td>None</td>\n",
              "      <td>4194158</td>\n",
              "      <td>Real Madrid</td>\n",
              "      <td>Deportivo de La Coruña</td>\n",
              "      <td>[6, 1]</td>\n",
              "      <td>6</td>\n",
              "      <td>1</td>\n",
              "      <td>False</td>\n",
              "      <td>False</td>\n",
              "      <td>False</td>\n",
              "      <td>False</td>\n",
              "      <td>0.5</td>\n",
              "      <td>0.84</td>\n",
              "      <td>0.420</td>\n",
              "    </tr>\n",
              "    <tr>\n",
              "      <th>774</th>\n",
              "      <td>Cristiano Ronaldo</td>\n",
              "      <td>0</td>\n",
              "      <td>90</td>\n",
              "      <td>1</td>\n",
              "      <td>4194256</td>\n",
              "      <td>Real Madrid</td>\n",
              "      <td>Girona</td>\n",
              "      <td>[6, 3]</td>\n",
              "      <td>6</td>\n",
              "      <td>3</td>\n",
              "      <td>False</td>\n",
              "      <td>False</td>\n",
              "      <td>False</td>\n",
              "      <td>False</td>\n",
              "      <td>0.5</td>\n",
              "      <td>0.91</td>\n",
              "      <td>0.455</td>\n",
              "    </tr>\n",
              "    <tr>\n",
              "      <th>648</th>\n",
              "      <td>Daniel Parejo</td>\n",
              "      <td>0</td>\n",
              "      <td>85</td>\n",
              "      <td>None</td>\n",
              "      <td>4194202</td>\n",
              "      <td>Valencia</td>\n",
              "      <td>Málaga</td>\n",
              "      <td>[1, 2]</td>\n",
              "      <td>1</td>\n",
              "      <td>2</td>\n",
              "      <td>False</td>\n",
              "      <td>True</td>\n",
              "      <td>False</td>\n",
              "      <td>False</td>\n",
              "      <td>5.0</td>\n",
              "      <td>0.85</td>\n",
              "      <td>4.250</td>\n",
              "    </tr>\n",
              "    <tr>\n",
              "      <th>833</th>\n",
              "      <td>Daniel Parejo</td>\n",
              "      <td>0</td>\n",
              "      <td>87</td>\n",
              "      <td>None</td>\n",
              "      <td>4194278</td>\n",
              "      <td>Valencia</td>\n",
              "      <td>Barcelona</td>\n",
              "      <td>[2, 1]</td>\n",
              "      <td>2</td>\n",
              "      <td>1</td>\n",
              "      <td>False</td>\n",
              "      <td>False</td>\n",
              "      <td>False</td>\n",
              "      <td>True</td>\n",
              "      <td>1.0</td>\n",
              "      <td>0.87</td>\n",
              "      <td>0.870</td>\n",
              "    </tr>\n",
              "    <tr>\n",
              "      <th>615</th>\n",
              "      <td>Daniel Parejo</td>\n",
              "      <td>0</td>\n",
              "      <td>89</td>\n",
              "      <td>None</td>\n",
              "      <td>4194191</td>\n",
              "      <td>Valencia</td>\n",
              "      <td>Levante</td>\n",
              "      <td>[3, 1]</td>\n",
              "      <td>3</td>\n",
              "      <td>1</td>\n",
              "      <td>False</td>\n",
              "      <td>False</td>\n",
              "      <td>True</td>\n",
              "      <td>False</td>\n",
              "      <td>1.5</td>\n",
              "      <td>0.89</td>\n",
              "      <td>1.335</td>\n",
              "    </tr>\n",
              "    <tr>\n",
              "      <th>403</th>\n",
              "      <td>Daniel Parejo</td>\n",
              "      <td>0</td>\n",
              "      <td>81</td>\n",
              "      <td>None</td>\n",
              "      <td>4194114</td>\n",
              "      <td>Valencia</td>\n",
              "      <td>Celta de Vigo</td>\n",
              "      <td>[2, 1]</td>\n",
              "      <td>2</td>\n",
              "      <td>1</td>\n",
              "      <td>False</td>\n",
              "      <td>True</td>\n",
              "      <td>False</td>\n",
              "      <td>False</td>\n",
              "      <td>5.0</td>\n",
              "      <td>0.81</td>\n",
              "      <td>4.050</td>\n",
              "    </tr>\n",
              "    <tr>\n",
              "      <th>566</th>\n",
              "      <td>Lionel Messi</td>\n",
              "      <td>0</td>\n",
              "      <td>84</td>\n",
              "      <td>None</td>\n",
              "      <td>4194174</td>\n",
              "      <td>Barcelona</td>\n",
              "      <td>Alavés</td>\n",
              "      <td>[2, 1]</td>\n",
              "      <td>2</td>\n",
              "      <td>1</td>\n",
              "      <td>False</td>\n",
              "      <td>True</td>\n",
              "      <td>False</td>\n",
              "      <td>False</td>\n",
              "      <td>5.0</td>\n",
              "      <td>0.84</td>\n",
              "      <td>4.200</td>\n",
              "    </tr>\n",
              "    <tr>\n",
              "      <th>909</th>\n",
              "      <td>Lionel Messi</td>\n",
              "      <td>0</td>\n",
              "      <td>82</td>\n",
              "      <td>None</td>\n",
              "      <td>4194309</td>\n",
              "      <td>Barcelona</td>\n",
              "      <td>Deportivo de La Coruña</td>\n",
              "      <td>[2, 3]</td>\n",
              "      <td>2</td>\n",
              "      <td>3</td>\n",
              "      <td>False</td>\n",
              "      <td>True</td>\n",
              "      <td>False</td>\n",
              "      <td>False</td>\n",
              "      <td>5.0</td>\n",
              "      <td>0.82</td>\n",
              "      <td>4.100</td>\n",
              "    </tr>\n",
              "    <tr>\n",
              "      <th>505</th>\n",
              "      <td>Lionel Messi</td>\n",
              "      <td>0</td>\n",
              "      <td>85</td>\n",
              "      <td>None</td>\n",
              "      <td>4194157</td>\n",
              "      <td>Barcelona</td>\n",
              "      <td>Real Sociedad</td>\n",
              "      <td>[2, 4]</td>\n",
              "      <td>2</td>\n",
              "      <td>4</td>\n",
              "      <td>False</td>\n",
              "      <td>False</td>\n",
              "      <td>True</td>\n",
              "      <td>False</td>\n",
              "      <td>1.5</td>\n",
              "      <td>0.85</td>\n",
              "      <td>1.275</td>\n",
              "    </tr>\n",
              "    <tr>\n",
              "      <th>400</th>\n",
              "      <td>Lionel Messi</td>\n",
              "      <td>0</td>\n",
              "      <td>83</td>\n",
              "      <td>None</td>\n",
              "      <td>4194112</td>\n",
              "      <td>Barcelona</td>\n",
              "      <td>Villarreal</td>\n",
              "      <td>[0, 2]</td>\n",
              "      <td>0</td>\n",
              "      <td>2</td>\n",
              "      <td>False</td>\n",
              "      <td>False</td>\n",
              "      <td>True</td>\n",
              "      <td>False</td>\n",
              "      <td>1.5</td>\n",
              "      <td>0.83</td>\n",
              "      <td>1.245</td>\n",
              "    </tr>\n",
              "    <tr>\n",
              "      <th>827</th>\n",
              "      <td>Lionel Messi</td>\n",
              "      <td>0</td>\n",
              "      <td>87</td>\n",
              "      <td>None</td>\n",
              "      <td>4194276</td>\n",
              "      <td>Barcelona</td>\n",
              "      <td>Leganés</td>\n",
              "      <td>[3, 1]</td>\n",
              "      <td>3</td>\n",
              "      <td>1</td>\n",
              "      <td>False</td>\n",
              "      <td>False</td>\n",
              "      <td>False</td>\n",
              "      <td>False</td>\n",
              "      <td>0.5</td>\n",
              "      <td>0.87</td>\n",
              "      <td>0.435</td>\n",
              "    </tr>\n",
              "    <tr>\n",
              "      <th>107</th>\n",
              "      <td>Lionel Messi</td>\n",
              "      <td>0</td>\n",
              "      <td>87</td>\n",
              "      <td>None</td>\n",
              "      <td>4194012</td>\n",
              "      <td>Barcelona</td>\n",
              "      <td>Eibar</td>\n",
              "      <td>[6, 1]</td>\n",
              "      <td>6</td>\n",
              "      <td>1</td>\n",
              "      <td>False</td>\n",
              "      <td>False</td>\n",
              "      <td>False</td>\n",
              "      <td>False</td>\n",
              "      <td>0.5</td>\n",
              "      <td>0.87</td>\n",
              "      <td>0.435</td>\n",
              "    </tr>\n",
              "    <tr>\n",
              "      <th>908</th>\n",
              "      <td>Lionel Messi</td>\n",
              "      <td>0</td>\n",
              "      <td>85</td>\n",
              "      <td>None</td>\n",
              "      <td>4194309</td>\n",
              "      <td>Barcelona</td>\n",
              "      <td>Deportivo de La Coruña</td>\n",
              "      <td>[2, 4]</td>\n",
              "      <td>2</td>\n",
              "      <td>4</td>\n",
              "      <td>False</td>\n",
              "      <td>False</td>\n",
              "      <td>True</td>\n",
              "      <td>False</td>\n",
              "      <td>1.5</td>\n",
              "      <td>0.85</td>\n",
              "      <td>1.275</td>\n",
              "    </tr>\n",
              "    <tr>\n",
              "      <th>793</th>\n",
              "      <td>Lionel Messi</td>\n",
              "      <td>0</td>\n",
              "      <td>89</td>\n",
              "      <td>None</td>\n",
              "      <td>4194265</td>\n",
              "      <td>Barcelona</td>\n",
              "      <td>Sevilla</td>\n",
              "      <td>[2, 2]</td>\n",
              "      <td>2</td>\n",
              "      <td>2</td>\n",
              "      <td>True</td>\n",
              "      <td>False</td>\n",
              "      <td>False</td>\n",
              "      <td>False</td>\n",
              "      <td>3.0</td>\n",
              "      <td>0.89</td>\n",
              "      <td>2.670</td>\n",
              "    </tr>\n",
              "    <tr>\n",
              "      <th>794</th>\n",
              "      <td>Luis Suárez</td>\n",
              "      <td>0</td>\n",
              "      <td>88</td>\n",
              "      <td>None</td>\n",
              "      <td>4194265</td>\n",
              "      <td>Barcelona</td>\n",
              "      <td>Sevilla</td>\n",
              "      <td>[2, 1]</td>\n",
              "      <td>2</td>\n",
              "      <td>1</td>\n",
              "      <td>False</td>\n",
              "      <td>False</td>\n",
              "      <td>False</td>\n",
              "      <td>True</td>\n",
              "      <td>1.0</td>\n",
              "      <td>0.88</td>\n",
              "      <td>0.880</td>\n",
              "    </tr>\n",
              "    <tr>\n",
              "      <th>71</th>\n",
              "      <td>Luis Suárez</td>\n",
              "      <td>0</td>\n",
              "      <td>90</td>\n",
              "      <td>None</td>\n",
              "      <td>4193997</td>\n",
              "      <td>Barcelona</td>\n",
              "      <td>Espanyol</td>\n",
              "      <td>[5, 0]</td>\n",
              "      <td>5</td>\n",
              "      <td>0</td>\n",
              "      <td>False</td>\n",
              "      <td>False</td>\n",
              "      <td>False</td>\n",
              "      <td>False</td>\n",
              "      <td>0.5</td>\n",
              "      <td>0.90</td>\n",
              "      <td>0.450</td>\n",
              "    </tr>\n",
              "    <tr>\n",
              "      <th>523</th>\n",
              "      <td>Luis Suárez</td>\n",
              "      <td>0</td>\n",
              "      <td>89</td>\n",
              "      <td>None</td>\n",
              "      <td>4194160</td>\n",
              "      <td>Barcelona</td>\n",
              "      <td>Real Betis</td>\n",
              "      <td>[0, 5]</td>\n",
              "      <td>0</td>\n",
              "      <td>5</td>\n",
              "      <td>False</td>\n",
              "      <td>False</td>\n",
              "      <td>False</td>\n",
              "      <td>False</td>\n",
              "      <td>0.5</td>\n",
              "      <td>0.89</td>\n",
              "      <td>0.445</td>\n",
              "    </tr>\n",
              "    <tr>\n",
              "      <th>213</th>\n",
              "      <td>Luis Suárez</td>\n",
              "      <td>0</td>\n",
              "      <td>82</td>\n",
              "      <td>None</td>\n",
              "      <td>4194046</td>\n",
              "      <td>Barcelona</td>\n",
              "      <td>Atlético de Madrid</td>\n",
              "      <td>[1, 1]</td>\n",
              "      <td>1</td>\n",
              "      <td>1</td>\n",
              "      <td>True</td>\n",
              "      <td>False</td>\n",
              "      <td>False</td>\n",
              "      <td>False</td>\n",
              "      <td>3.0</td>\n",
              "      <td>0.82</td>\n",
              "      <td>2.460</td>\n",
              "    </tr>\n",
              "    <tr>\n",
              "      <th>455</th>\n",
              "      <td>Paulinho</td>\n",
              "      <td>0</td>\n",
              "      <td>90</td>\n",
              "      <td>3</td>\n",
              "      <td>4194138</td>\n",
              "      <td>Barcelona</td>\n",
              "      <td>Levante</td>\n",
              "      <td>[3, 0]</td>\n",
              "      <td>3</td>\n",
              "      <td>0</td>\n",
              "      <td>False</td>\n",
              "      <td>False</td>\n",
              "      <td>False</td>\n",
              "      <td>False</td>\n",
              "      <td>0.5</td>\n",
              "      <td>0.93</td>\n",
              "      <td>0.465</td>\n",
              "    </tr>\n",
              "    <tr>\n",
              "      <th>305</th>\n",
              "      <td>Paulinho</td>\n",
              "      <td>0</td>\n",
              "      <td>90</td>\n",
              "      <td>None</td>\n",
              "      <td>4194078</td>\n",
              "      <td>Barcelona</td>\n",
              "      <td>Leganés</td>\n",
              "      <td>[0, 3]</td>\n",
              "      <td>0</td>\n",
              "      <td>3</td>\n",
              "      <td>False</td>\n",
              "      <td>False</td>\n",
              "      <td>False</td>\n",
              "      <td>False</td>\n",
              "      <td>0.5</td>\n",
              "      <td>0.90</td>\n",
              "      <td>0.450</td>\n",
              "    </tr>\n",
              "    <tr>\n",
              "      <th>275</th>\n",
              "      <td>Paulinho</td>\n",
              "      <td>0</td>\n",
              "      <td>90</td>\n",
              "      <td>2</td>\n",
              "      <td>4194067</td>\n",
              "      <td>Barcelona</td>\n",
              "      <td>Athletic Club</td>\n",
              "      <td>[0, 2]</td>\n",
              "      <td>0</td>\n",
              "      <td>2</td>\n",
              "      <td>False</td>\n",
              "      <td>False</td>\n",
              "      <td>True</td>\n",
              "      <td>False</td>\n",
              "      <td>1.5</td>\n",
              "      <td>0.92</td>\n",
              "      <td>1.380</td>\n",
              "    </tr>\n",
              "    <tr>\n",
              "      <th>78</th>\n",
              "      <td>Paulinho</td>\n",
              "      <td>0</td>\n",
              "      <td>84</td>\n",
              "      <td>None</td>\n",
              "      <td>4194000</td>\n",
              "      <td>Barcelona</td>\n",
              "      <td>Getafe</td>\n",
              "      <td>[1, 2]</td>\n",
              "      <td>1</td>\n",
              "      <td>2</td>\n",
              "      <td>False</td>\n",
              "      <td>True</td>\n",
              "      <td>False</td>\n",
              "      <td>False</td>\n",
              "      <td>5.0</td>\n",
              "      <td>0.84</td>\n",
              "      <td>4.200</td>\n",
              "    </tr>\n",
              "    <tr>\n",
              "      <th>564</th>\n",
              "      <td>Ángel Rodríguez</td>\n",
              "      <td>0</td>\n",
              "      <td>90</td>\n",
              "      <td>3</td>\n",
              "      <td>4194172</td>\n",
              "      <td>Getafe</td>\n",
              "      <td>Sevilla</td>\n",
              "      <td>[1, 1]</td>\n",
              "      <td>1</td>\n",
              "      <td>1</td>\n",
              "      <td>True</td>\n",
              "      <td>False</td>\n",
              "      <td>False</td>\n",
              "      <td>False</td>\n",
              "      <td>3.0</td>\n",
              "      <td>0.93</td>\n",
              "      <td>2.790</td>\n",
              "    </tr>\n",
              "    <tr>\n",
              "      <th>142</th>\n",
              "      <td>Ángel Rodríguez</td>\n",
              "      <td>0</td>\n",
              "      <td>90</td>\n",
              "      <td>2</td>\n",
              "      <td>4194024</td>\n",
              "      <td>Getafe</td>\n",
              "      <td>Villarreal</td>\n",
              "      <td>[4, 0]</td>\n",
              "      <td>4</td>\n",
              "      <td>0</td>\n",
              "      <td>False</td>\n",
              "      <td>False</td>\n",
              "      <td>False</td>\n",
              "      <td>False</td>\n",
              "      <td>0.5</td>\n",
              "      <td>0.92</td>\n",
              "      <td>0.460</td>\n",
              "    </tr>\n",
              "    <tr>\n",
              "      <th>98</th>\n",
              "      <td>Ángel Rodríguez</td>\n",
              "      <td>0</td>\n",
              "      <td>86</td>\n",
              "      <td>None</td>\n",
              "      <td>4194008</td>\n",
              "      <td>Getafe</td>\n",
              "      <td>Celta de Vigo</td>\n",
              "      <td>[1, 1]</td>\n",
              "      <td>1</td>\n",
              "      <td>1</td>\n",
              "      <td>True</td>\n",
              "      <td>False</td>\n",
              "      <td>False</td>\n",
              "      <td>False</td>\n",
              "      <td>3.0</td>\n",
              "      <td>0.86</td>\n",
              "      <td>2.580</td>\n",
              "    </tr>\n",
              "    <tr>\n",
              "      <th>632</th>\n",
              "      <td>Ángel Rodríguez</td>\n",
              "      <td>0</td>\n",
              "      <td>85</td>\n",
              "      <td>None</td>\n",
              "      <td>4194198</td>\n",
              "      <td>Getafe</td>\n",
              "      <td>Celta de Vigo</td>\n",
              "      <td>[3, 0]</td>\n",
              "      <td>3</td>\n",
              "      <td>0</td>\n",
              "      <td>False</td>\n",
              "      <td>False</td>\n",
              "      <td>False</td>\n",
              "      <td>False</td>\n",
              "      <td>0.5</td>\n",
              "      <td>0.85</td>\n",
              "      <td>0.425</td>\n",
              "    </tr>\n",
              "    <tr>\n",
              "      <th>932</th>\n",
              "      <td>Ángel Rodríguez</td>\n",
              "      <td>0</td>\n",
              "      <td>88</td>\n",
              "      <td>None</td>\n",
              "      <td>4194318</td>\n",
              "      <td>Getafe</td>\n",
              "      <td>Las Palmas</td>\n",
              "      <td>[0, 1]</td>\n",
              "      <td>0</td>\n",
              "      <td>1</td>\n",
              "      <td>False</td>\n",
              "      <td>True</td>\n",
              "      <td>False</td>\n",
              "      <td>False</td>\n",
              "      <td>5.0</td>\n",
              "      <td>0.88</td>\n",
              "      <td>4.400</td>\n",
              "    </tr>\n",
              "  </tbody>\n",
              "</table>\n",
              "</div>"
            ],
            "text/plain": [
              "                player own_goal minute extra_minute fixture_id         team                opponent updated_score  score_a  score_b   tied   up_1   up_2  down_1  score_grade  time_weight  player_clutch_score\n",
              "874  Cristiano Ronaldo        0     87         None    4194296  Real Madrid           Athletic Club        [1, 1]        1        1   True  False  False   False          3.0         0.87                2.610\n",
              "730  Cristiano Ronaldo        0     84         None    4194238  Real Madrid                   Eibar        [1, 2]        1        2  False   True  False   False          5.0         0.84                4.200\n",
              "196  Cristiano Ronaldo        0     85         None    4194039  Real Madrid                  Getafe        [1, 2]        1        2  False   True  False   False          5.0         0.85                4.250\n",
              "512  Cristiano Ronaldo        0     84         None    4194158  Real Madrid  Deportivo de La Coruña        [6, 1]        6        1  False  False  False   False          0.5         0.84                0.420\n",
              "774  Cristiano Ronaldo        0     90            1    4194256  Real Madrid                  Girona        [6, 3]        6        3  False  False  False   False          0.5         0.91                0.455\n",
              "648      Daniel Parejo        0     85         None    4194202     Valencia                  Málaga        [1, 2]        1        2  False   True  False   False          5.0         0.85                4.250\n",
              "833      Daniel Parejo        0     87         None    4194278     Valencia               Barcelona        [2, 1]        2        1  False  False  False    True          1.0         0.87                0.870\n",
              "615      Daniel Parejo        0     89         None    4194191     Valencia                 Levante        [3, 1]        3        1  False  False   True   False          1.5         0.89                1.335\n",
              "403      Daniel Parejo        0     81         None    4194114     Valencia           Celta de Vigo        [2, 1]        2        1  False   True  False   False          5.0         0.81                4.050\n",
              "566       Lionel Messi        0     84         None    4194174    Barcelona                  Alavés        [2, 1]        2        1  False   True  False   False          5.0         0.84                4.200\n",
              "909       Lionel Messi        0     82         None    4194309    Barcelona  Deportivo de La Coruña        [2, 3]        2        3  False   True  False   False          5.0         0.82                4.100\n",
              "505       Lionel Messi        0     85         None    4194157    Barcelona           Real Sociedad        [2, 4]        2        4  False  False   True   False          1.5         0.85                1.275\n",
              "400       Lionel Messi        0     83         None    4194112    Barcelona              Villarreal        [0, 2]        0        2  False  False   True   False          1.5         0.83                1.245\n",
              "827       Lionel Messi        0     87         None    4194276    Barcelona                 Leganés        [3, 1]        3        1  False  False  False   False          0.5         0.87                0.435\n",
              "107       Lionel Messi        0     87         None    4194012    Barcelona                   Eibar        [6, 1]        6        1  False  False  False   False          0.5         0.87                0.435\n",
              "908       Lionel Messi        0     85         None    4194309    Barcelona  Deportivo de La Coruña        [2, 4]        2        4  False  False   True   False          1.5         0.85                1.275\n",
              "793       Lionel Messi        0     89         None    4194265    Barcelona                 Sevilla        [2, 2]        2        2   True  False  False   False          3.0         0.89                2.670\n",
              "794        Luis Suárez        0     88         None    4194265    Barcelona                 Sevilla        [2, 1]        2        1  False  False  False    True          1.0         0.88                0.880\n",
              "71         Luis Suárez        0     90         None    4193997    Barcelona                Espanyol        [5, 0]        5        0  False  False  False   False          0.5         0.90                0.450\n",
              "523        Luis Suárez        0     89         None    4194160    Barcelona              Real Betis        [0, 5]        0        5  False  False  False   False          0.5         0.89                0.445\n",
              "213        Luis Suárez        0     82         None    4194046    Barcelona      Atlético de Madrid        [1, 1]        1        1   True  False  False   False          3.0         0.82                2.460\n",
              "455           Paulinho        0     90            3    4194138    Barcelona                 Levante        [3, 0]        3        0  False  False  False   False          0.5         0.93                0.465\n",
              "305           Paulinho        0     90         None    4194078    Barcelona                 Leganés        [0, 3]        0        3  False  False  False   False          0.5         0.90                0.450\n",
              "275           Paulinho        0     90            2    4194067    Barcelona           Athletic Club        [0, 2]        0        2  False  False   True   False          1.5         0.92                1.380\n",
              "78            Paulinho        0     84         None    4194000    Barcelona                  Getafe        [1, 2]        1        2  False   True  False   False          5.0         0.84                4.200\n",
              "564    Ángel Rodríguez        0     90            3    4194172       Getafe                 Sevilla        [1, 1]        1        1   True  False  False   False          3.0         0.93                2.790\n",
              "142    Ángel Rodríguez        0     90            2    4194024       Getafe              Villarreal        [4, 0]        4        0  False  False  False   False          0.5         0.92                0.460\n",
              "98     Ángel Rodríguez        0     86         None    4194008       Getafe           Celta de Vigo        [1, 1]        1        1   True  False  False   False          3.0         0.86                2.580\n",
              "632    Ángel Rodríguez        0     85         None    4194198       Getafe           Celta de Vigo        [3, 0]        3        0  False  False  False   False          0.5         0.85                0.425\n",
              "932    Ángel Rodríguez        0     88         None    4194318       Getafe              Las Palmas        [0, 1]        0        1  False   True  False   False          5.0         0.88                4.400"
            ]
          },
          "metadata": {
            "tags": []
          },
          "execution_count": 117
        }
      ]
    },
    {
      "metadata": {
        "id": "aeTtPEW8q-uY",
        "colab_type": "code",
        "colab": {
          "base_uri": "https://localhost:8080/",
          "height": 34
        },
        "outputId": "8c03a4d2-103e-4cc9-9bf2-0772b1a9258b"
      },
      "cell_type": "code",
      "source": [
        "df_80min_lls1.shape"
      ],
      "execution_count": 118,
      "outputs": [
        {
          "output_type": "execute_result",
          "data": {
            "text/plain": [
              "(30, 17)"
            ]
          },
          "metadata": {
            "tags": []
          },
          "execution_count": 118
        }
      ]
    },
    {
      "metadata": {
        "id": "muqBqHGvsWqN",
        "colab_type": "code",
        "colab": {
          "base_uri": "https://localhost:8080/",
          "height": 153
        },
        "outputId": "81fda4d1-064d-4236-9ea3-4d9d7691ed7a"
      },
      "cell_type": "code",
      "source": [
        "df_80min_lls1.groupby('player')['player_clutch_score'].agg(np.mean)"
      ],
      "execution_count": 121,
      "outputs": [
        {
          "output_type": "execute_result",
          "data": {
            "text/plain": [
              "player\n",
              "Cristiano Ronaldo    2.387000\n",
              "Daniel Parejo        2.626250\n",
              "Lionel Messi         1.954375\n",
              "Luis Suárez          1.058750\n",
              "Paulinho             1.623750\n",
              "Ángel Rodríguez      2.131000\n",
              "Name: player_clutch_score, dtype: float64"
            ]
          },
          "metadata": {
            "tags": []
          },
          "execution_count": 121
        }
      ]
    },
    {
      "metadata": {
        "id": "-INtLFeapa5P",
        "colab_type": "code",
        "colab": {}
      },
      "cell_type": "code",
      "source": [
        "#df_goals_lls1[df_goals_lls1.minute.between(80, 100)]"
      ],
      "execution_count": 0,
      "outputs": []
    }
  ]
}